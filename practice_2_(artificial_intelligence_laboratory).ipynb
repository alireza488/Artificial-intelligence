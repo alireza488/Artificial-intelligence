{
 "cells": [
  {
   "cell_type": "code",
   "execution_count": 4,
   "id": "6d1497dd-099a-4fd5-95a1-2f1fc743c49f",
   "metadata": {},
   "outputs": [],
   "source": [
    "import numpy as np"
   ]
  },
  {
   "cell_type": "code",
   "execution_count": 5,
   "id": "18a27cac-89a9-4650-8306-beff9ebc75e5",
   "metadata": {},
   "outputs": [],
   "source": [
    "arr_0_D=np.array([1])"
   ]
  },
  {
   "cell_type": "code",
   "execution_count": 6,
   "id": "ca462fb0-2766-4239-9796-d95701fb7860",
   "metadata": {},
   "outputs": [
    {
     "data": {
      "text/plain": [
       "array([1])"
      ]
     },
     "execution_count": 6,
     "metadata": {},
     "output_type": "execute_result"
    }
   ],
   "source": [
    "arr_0_D"
   ]
  },
  {
   "cell_type": "code",
   "execution_count": 13,
   "id": "835efc78-8af9-488b-b49d-a7373371b1e6",
   "metadata": {},
   "outputs": [],
   "source": [
    "arr_1_D=np.array([1,2,3])"
   ]
  },
  {
   "cell_type": "code",
   "execution_count": 14,
   "id": "0475c005-aa35-45d4-bad3-e9f9ba283b8c",
   "metadata": {},
   "outputs": [
    {
     "data": {
      "text/plain": [
       "array([1, 2, 3])"
      ]
     },
     "execution_count": 14,
     "metadata": {},
     "output_type": "execute_result"
    }
   ],
   "source": [
    "arr_1_D"
   ]
  },
  {
   "cell_type": "code",
   "execution_count": 15,
   "id": "c0b9cea4-f626-404c-b2b5-f3cc2a904e14",
   "metadata": {},
   "outputs": [],
   "source": [
    "arr_2_D=np.array([[1,2,3],[4,5,6]])"
   ]
  },
  {
   "cell_type": "code",
   "execution_count": 16,
   "id": "388a7f4f-4485-458f-95a8-96cdb81be5ca",
   "metadata": {},
   "outputs": [
    {
     "data": {
      "text/plain": [
       "array([[1, 2, 3],\n",
       "       [4, 5, 6]])"
      ]
     },
     "execution_count": 16,
     "metadata": {},
     "output_type": "execute_result"
    }
   ],
   "source": [
    "arr_2_D"
   ]
  },
  {
   "cell_type": "code",
   "execution_count": 17,
   "id": "b59af781-62e0-436d-8d8c-abe8b0b528ac",
   "metadata": {},
   "outputs": [],
   "source": [
    "arr_3_D=np.array([[[1,2,3],[4,5,6],[7,8,9]]])"
   ]
  },
  {
   "cell_type": "code",
   "execution_count": 18,
   "id": "a87c1c71-eb85-4d1f-83eb-408e6fd0de4d",
   "metadata": {},
   "outputs": [
    {
     "data": {
      "text/plain": [
       "array([[[1, 2, 3],\n",
       "        [4, 5, 6],\n",
       "        [7, 8, 9]]])"
      ]
     },
     "execution_count": 18,
     "metadata": {},
     "output_type": "execute_result"
    }
   ],
   "source": [
    "arr_3_D"
   ]
  },
  {
   "cell_type": "code",
   "execution_count": 19,
   "id": "7f02529f-c6a1-4712-8c2f-1481835325c1",
   "metadata": {},
   "outputs": [],
   "source": [
    "arr=np.array([1,2,3], ndmin=4)"
   ]
  },
  {
   "cell_type": "code",
   "execution_count": 20,
   "id": "78808183-316a-4b58-8ae7-51d0e0d328ab",
   "metadata": {},
   "outputs": [
    {
     "data": {
      "text/plain": [
       "array([[[[1, 2, 3]]]])"
      ]
     },
     "execution_count": 20,
     "metadata": {},
     "output_type": "execute_result"
    }
   ],
   "source": [
    "arr"
   ]
  },
  {
   "cell_type": "code",
   "execution_count": null,
   "id": "51931ac6-e03a-47d7-b6a8-4f9ffdcc8bc2",
   "metadata": {},
   "outputs": [],
   "source": []
  }
 ],
 "metadata": {
  "kernelspec": {
   "display_name": "Python 3 (ipykernel)",
   "language": "python",
   "name": "python3"
  },
  "language_info": {
   "codemirror_mode": {
    "name": "ipython",
    "version": 3
   },
   "file_extension": ".py",
   "mimetype": "text/x-python",
   "name": "python",
   "nbconvert_exporter": "python",
   "pygments_lexer": "ipython3",
   "version": "3.11.4"
  }
 },
 "nbformat": 4,
 "nbformat_minor": 5
}
