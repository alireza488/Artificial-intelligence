{
 "cells": [
  {
   "cell_type": "code",
   "execution_count": null,
   "id": "19c00f05-5f6a-460b-94f1-1f7bcca1ab48",
   "metadata": {},
   "outputs": [],
   "source": [
    "# practice_1."
   ]
  },
  {
   "cell_type": "code",
   "execution_count": 10,
   "id": "97fd0162-7b29-42aa-bac9-1c3eee1e0e56",
   "metadata": {},
   "outputs": [],
   "source": [
    "import numpy as np"
   ]
  },
  {
   "cell_type": "code",
   "execution_count": 11,
   "id": "5d25552c-daf3-4e60-bab0-48156b881f33",
   "metadata": {},
   "outputs": [],
   "source": [
    "arr = np.array([1,2,3,4,5,6,7,8])"
   ]
  },
  {
   "cell_type": "code",
   "execution_count": 12,
   "id": "21768615-1511-4dc5-aeeb-4ebfdd5a854c",
   "metadata": {
    "editable": true,
    "slideshow": {
     "slide_type": ""
    },
    "tags": []
   },
   "outputs": [
    {
     "data": {
      "text/plain": [
       "array([1, 2, 3, 4, 5, 6, 7, 8])"
      ]
     },
     "execution_count": 12,
     "metadata": {},
     "output_type": "execute_result"
    }
   ],
   "source": [
    "arr[0:]"
   ]
  },
  {
   "cell_type": "code",
   "execution_count": 13,
   "id": "b912fadf-d5de-46ca-9008-fe400619b035",
   "metadata": {},
   "outputs": [
    {
     "data": {
      "text/plain": [
       "array([2, 3, 4, 5])"
      ]
     },
     "execution_count": 13,
     "metadata": {},
     "output_type": "execute_result"
    }
   ],
   "source": [
    "arr[1:5]"
   ]
  },
  {
   "cell_type": "code",
   "execution_count": 14,
   "id": "2d91c656-4f8c-433e-97bb-d1535ed635dd",
   "metadata": {},
   "outputs": [
    {
     "data": {
      "text/plain": [
       "array([4, 5, 6])"
      ]
     },
     "execution_count": 14,
     "metadata": {},
     "output_type": "execute_result"
    }
   ],
   "source": [
    "arr[3:6]"
   ]
  },
  {
   "cell_type": "code",
   "execution_count": 15,
   "id": "b6eea63e-baef-4991-a9e1-09467066b178",
   "metadata": {},
   "outputs": [
    {
     "data": {
      "text/plain": [
       "array([1, 3, 5, 7])"
      ]
     },
     "execution_count": 15,
     "metadata": {},
     "output_type": "execute_result"
    }
   ],
   "source": [
    "arr[0:7:2]"
   ]
  },
  {
   "cell_type": "code",
   "execution_count": 16,
   "id": "04dffa8d-1284-4899-bf3a-5259ad968f50",
   "metadata": {},
   "outputs": [
    {
     "data": {
      "text/plain": [
       "array([5, 6])"
      ]
     },
     "execution_count": 16,
     "metadata": {},
     "output_type": "execute_result"
    }
   ],
   "source": [
    "arr[-4:-2]"
   ]
  },
  {
   "cell_type": "code",
   "execution_count": null,
   "id": "1700461d-97e0-4f6a-8013-c7d38d773f3e",
   "metadata": {
    "editable": true,
    "slideshow": {
     "slide_type": ""
    },
    "tags": []
   },
   "outputs": [],
   "source": []
  },
  {
   "cell_type": "code",
   "execution_count": null,
   "id": "c271dd01-d8b2-4b24-a051-72372a78cd3c",
   "metadata": {
    "editable": true,
    "slideshow": {
     "slide_type": ""
    },
    "tags": []
   },
   "outputs": [],
   "source": [
    "# practice_2."
   ]
  },
  {
   "cell_type": "code",
   "execution_count": 17,
   "id": "cdcc88ad-562a-4543-bdd2-a762dd4674ba",
   "metadata": {
    "editable": true,
    "slideshow": {
     "slide_type": ""
    },
    "tags": []
   },
   "outputs": [],
   "source": [
    "mt=np.array([[1,2,3,4,5],[6,7,8,9,10]])"
   ]
  },
  {
   "cell_type": "code",
   "execution_count": 18,
   "id": "44529650-ffee-4218-a304-63571919b382",
   "metadata": {
    "editable": true,
    "slideshow": {
     "slide_type": ""
    },
    "tags": []
   },
   "outputs": [
    {
     "data": {
      "text/plain": [
       "array([[ 1,  2,  3,  4,  5],\n",
       "       [ 6,  7,  8,  9, 10]])"
      ]
     },
     "execution_count": 18,
     "metadata": {},
     "output_type": "execute_result"
    }
   ],
   "source": [
    "mt"
   ]
  },
  {
   "cell_type": "code",
   "execution_count": 19,
   "id": "8c256c0b-79da-4e8f-bfe0-5f32edb7e0e6",
   "metadata": {
    "editable": true,
    "slideshow": {
     "slide_type": ""
    },
    "tags": []
   },
   "outputs": [
    {
     "data": {
      "text/plain": [
       "array([1, 2, 3, 4, 5])"
      ]
     },
     "execution_count": 19,
     "metadata": {},
     "output_type": "execute_result"
    }
   ],
   "source": [
    "mt[0,:]"
   ]
  },
  {
   "cell_type": "code",
   "execution_count": 20,
   "id": "dc54ff35-987b-4a7f-b647-0fb581185cf9",
   "metadata": {
    "editable": true,
    "slideshow": {
     "slide_type": ""
    },
    "tags": []
   },
   "outputs": [
    {
     "data": {
      "text/plain": [
       "array([ 6,  7,  8,  9, 10])"
      ]
     },
     "execution_count": 20,
     "metadata": {},
     "output_type": "execute_result"
    }
   ],
   "source": [
    "mt[1,:]"
   ]
  },
  {
   "cell_type": "code",
   "execution_count": 21,
   "id": "aea4731d-f1ff-4109-ae14-1081cb7aada0",
   "metadata": {
    "editable": true,
    "slideshow": {
     "slide_type": ""
    },
    "tags": []
   },
   "outputs": [
    {
     "data": {
      "text/plain": [
       "array([1, 2, 3])"
      ]
     },
     "execution_count": 21,
     "metadata": {},
     "output_type": "execute_result"
    }
   ],
   "source": [
    "mt[0,0:3]"
   ]
  },
  {
   "cell_type": "code",
   "execution_count": 22,
   "id": "2be6e87f-90db-4130-a38b-06765c468396",
   "metadata": {},
   "outputs": [
    {
     "data": {
      "text/plain": [
       "array([ 8,  9, 10])"
      ]
     },
     "execution_count": 22,
     "metadata": {},
     "output_type": "execute_result"
    }
   ],
   "source": [
    "mt[1,2:5]"
   ]
  },
  {
   "cell_type": "code",
   "execution_count": null,
   "id": "563f9f6b-5527-46eb-84ab-0bbf86d8fa1b",
   "metadata": {},
   "outputs": [],
   "source": []
  },
  {
   "cell_type": "code",
   "execution_count": null,
   "id": "a8352050-877d-4a4c-a81f-185ce67d57c4",
   "metadata": {
    "editable": true,
    "slideshow": {
     "slide_type": ""
    },
    "tags": []
   },
   "outputs": [],
   "source": [
    "# practice_3."
   ]
  },
  {
   "cell_type": "code",
   "execution_count": 23,
   "id": "bbe0b118-17ed-493b-b2e7-666f4f87db08",
   "metadata": {
    "editable": true,
    "slideshow": {
     "slide_type": ""
    },
    "tags": []
   },
   "outputs": [],
   "source": [
    "mtr = np.arange(10000).reshape(100,100) "
   ]
  },
  {
   "cell_type": "code",
   "execution_count": 24,
   "id": "a8081473-44cf-4ebd-8900-f755ddd91dcd",
   "metadata": {
    "editable": true,
    "slideshow": {
     "slide_type": ""
    },
    "tags": []
   },
   "outputs": [
    {
     "data": {
      "text/plain": [
       "array([[   0,    1,    2, ...,   97,   98,   99],\n",
       "       [ 100,  101,  102, ...,  197,  198,  199],\n",
       "       [ 200,  201,  202, ...,  297,  298,  299],\n",
       "       ...,\n",
       "       [9700, 9701, 9702, ..., 9797, 9798, 9799],\n",
       "       [9800, 9801, 9802, ..., 9897, 9898, 9899],\n",
       "       [9900, 9901, 9902, ..., 9997, 9998, 9999]])"
      ]
     },
     "execution_count": 24,
     "metadata": {},
     "output_type": "execute_result"
    }
   ],
   "source": [
    "mtr[:,:]"
   ]
  },
  {
   "cell_type": "code",
   "execution_count": null,
   "id": "dc127f3b-69e4-4ed1-befa-d65f3cd0c76f",
   "metadata": {},
   "outputs": [],
   "source": []
  },
  {
   "cell_type": "code",
   "execution_count": null,
   "id": "0e0d8ab0-952f-40a4-b2aa-d234cb6fa661",
   "metadata": {
    "editable": true,
    "slideshow": {
     "slide_type": ""
    },
    "tags": []
   },
   "outputs": [],
   "source": [
    "# practice_4."
   ]
  },
  {
   "cell_type": "code",
   "execution_count": 25,
   "id": "f922ca0c-cd68-4cae-b947-cc45b07d6bf6",
   "metadata": {
    "editable": true,
    "slideshow": {
     "slide_type": ""
    },
    "tags": []
   },
   "outputs": [],
   "source": [
    "mtr = np.arange(100).reshape(10,10) "
   ]
  },
  {
   "cell_type": "code",
   "execution_count": 26,
   "id": "b770ad9d-1c6d-449d-953b-13943e5406c1",
   "metadata": {},
   "outputs": [
    {
     "data": {
      "text/plain": [
       "array([[ 0,  1,  2,  3,  4,  5,  6,  7,  8,  9],\n",
       "       [10, 11, 12, 13, 14, 15, 16, 17, 18, 19],\n",
       "       [20, 21, 22, 23, 24, 25, 26, 27, 28, 29],\n",
       "       [30, 31, 32, 33, 34, 35, 36, 37, 38, 39],\n",
       "       [40, 41, 42, 43, 44, 45, 46, 47, 48, 49],\n",
       "       [50, 51, 52, 53, 54, 55, 56, 57, 58, 59],\n",
       "       [60, 61, 62, 63, 64, 65, 66, 67, 68, 69],\n",
       "       [70, 71, 72, 73, 74, 75, 76, 77, 78, 79],\n",
       "       [80, 81, 82, 83, 84, 85, 86, 87, 88, 89],\n",
       "       [90, 91, 92, 93, 94, 95, 96, 97, 98, 99]])"
      ]
     },
     "execution_count": 26,
     "metadata": {},
     "output_type": "execute_result"
    }
   ],
   "source": [
    "mtr"
   ]
  },
  {
   "cell_type": "code",
   "execution_count": 27,
   "id": "e5dd7a54-5a74-47ac-a16c-eaeec5d570a5",
   "metadata": {},
   "outputs": [
    {
     "data": {
      "text/plain": [
       "array([[ 0,  1],\n",
       "       [10, 11]])"
      ]
     },
     "execution_count": 27,
     "metadata": {},
     "output_type": "execute_result"
    }
   ],
   "source": [
    "mtr[0:2 , :2]"
   ]
  },
  {
   "cell_type": "code",
   "execution_count": null,
   "id": "fe618baa-b700-4fc5-885b-8b883ea94fd0",
   "metadata": {
    "editable": true,
    "slideshow": {
     "slide_type": ""
    },
    "tags": []
   },
   "outputs": [],
   "source": [
    "mtr[2:4 , :2]"
   ]
  },
  {
   "cell_type": "code",
   "execution_count": null,
   "id": "e5bcdbe3-1e3e-4af2-8ef5-e77c6b503f75",
   "metadata": {
    "editable": true,
    "slideshow": {
     "slide_type": ""
    },
    "tags": []
   },
   "outputs": [],
   "source": [
    "mtr[4:6 , :2]"
   ]
  },
  {
   "cell_type": "code",
   "execution_count": null,
   "id": "d648f5c9-3856-445e-988e-04412af4ed19",
   "metadata": {
    "editable": true,
    "slideshow": {
     "slide_type": ""
    },
    "tags": []
   },
   "outputs": [],
   "source": [
    "mtr[6:8 , :2]"
   ]
  },
  {
   "cell_type": "code",
   "execution_count": null,
   "id": "5547769f-f1de-4e20-8587-1ea71b3ec2ce",
   "metadata": {
    "editable": true,
    "slideshow": {
     "slide_type": ""
    },
    "tags": []
   },
   "outputs": [],
   "source": [
    "mtr[8:10 , :2]"
   ]
  },
  {
   "cell_type": "code",
   "execution_count": 28,
   "id": "90d79299-9100-40e0-8881-0a02b2d431fc",
   "metadata": {},
   "outputs": [
    {
     "data": {
      "text/plain": [
       "array([[ 2,  3],\n",
       "       [12, 13]])"
      ]
     },
     "execution_count": 28,
     "metadata": {},
     "output_type": "execute_result"
    }
   ],
   "source": [
    "mtr[0:2 , 2:4]"
   ]
  },
  {
   "cell_type": "code",
   "execution_count": null,
   "id": "37834083-35c9-4889-b963-ed1e27fdeaf4",
   "metadata": {
    "editable": true,
    "slideshow": {
     "slide_type": ""
    },
    "tags": []
   },
   "outputs": [],
   "source": [
    "mtr[2:4 , 2:4]"
   ]
  },
  {
   "cell_type": "code",
   "execution_count": null,
   "id": "35839fdd-df79-46c4-9bee-90b2bd3c9de6",
   "metadata": {
    "editable": true,
    "slideshow": {
     "slide_type": ""
    },
    "tags": []
   },
   "outputs": [],
   "source": [
    "mtr[4:6 , 2:4]"
   ]
  },
  {
   "cell_type": "code",
   "execution_count": null,
   "id": "7c358f7f-a532-4627-80f2-3153d3979672",
   "metadata": {
    "editable": true,
    "slideshow": {
     "slide_type": ""
    },
    "tags": []
   },
   "outputs": [],
   "source": [
    "mtr[6:8 , 2:4]"
   ]
  },
  {
   "cell_type": "code",
   "execution_count": null,
   "id": "5f02169d-86fc-4a87-aabe-383c3daf9e47",
   "metadata": {
    "editable": true,
    "slideshow": {
     "slide_type": ""
    },
    "tags": []
   },
   "outputs": [],
   "source": [
    "mtr[8:10 , 2:4]"
   ]
  },
  {
   "cell_type": "code",
   "execution_count": 29,
   "id": "f9fb510b-843c-4cad-a3c3-90c8d061f374",
   "metadata": {},
   "outputs": [
    {
     "data": {
      "text/plain": [
       "array([[ 4,  5],\n",
       "       [14, 15]])"
      ]
     },
     "execution_count": 29,
     "metadata": {},
     "output_type": "execute_result"
    }
   ],
   "source": [
    "mtr[0:2 , 4:6]"
   ]
  },
  {
   "cell_type": "code",
   "execution_count": null,
   "id": "1f90148f-6b05-4ba5-96ae-0a83de99c9a3",
   "metadata": {
    "editable": true,
    "slideshow": {
     "slide_type": ""
    },
    "tags": []
   },
   "outputs": [],
   "source": [
    "mtr[2:4 , 4:6]"
   ]
  },
  {
   "cell_type": "code",
   "execution_count": null,
   "id": "79ae75b7-233b-48a2-93bd-375ddb731626",
   "metadata": {
    "editable": true,
    "slideshow": {
     "slide_type": ""
    },
    "tags": []
   },
   "outputs": [],
   "source": [
    "mtr[4:6 , 4:6]"
   ]
  },
  {
   "cell_type": "code",
   "execution_count": null,
   "id": "3c20698b-ed3d-4dcf-8cd4-02f5a344cd0b",
   "metadata": {
    "editable": true,
    "slideshow": {
     "slide_type": ""
    },
    "tags": []
   },
   "outputs": [],
   "source": [
    "mtr[6:8 , 4:6]"
   ]
  },
  {
   "cell_type": "code",
   "execution_count": null,
   "id": "9025687d-fb33-480c-9ad5-e840397bc281",
   "metadata": {
    "editable": true,
    "slideshow": {
     "slide_type": ""
    },
    "tags": []
   },
   "outputs": [],
   "source": [
    "mtr[8:10 , 4:6]"
   ]
  },
  {
   "cell_type": "code",
   "execution_count": 30,
   "id": "96f36912-7f0f-4d8b-bb55-1315c4146d96",
   "metadata": {},
   "outputs": [
    {
     "data": {
      "text/plain": [
       "array([[ 6,  7],\n",
       "       [16, 17]])"
      ]
     },
     "execution_count": 30,
     "metadata": {},
     "output_type": "execute_result"
    }
   ],
   "source": [
    "mtr[0:2 , 6:8]"
   ]
  },
  {
   "cell_type": "code",
   "execution_count": null,
   "id": "526bef59-4dfa-4b93-8cfd-d1a41c514c61",
   "metadata": {
    "editable": true,
    "slideshow": {
     "slide_type": ""
    },
    "tags": []
   },
   "outputs": [],
   "source": [
    "mtr[2:4 , 6:8]"
   ]
  },
  {
   "cell_type": "code",
   "execution_count": null,
   "id": "703bf5f7-56f6-4431-b833-af6f7017a08d",
   "metadata": {
    "editable": true,
    "slideshow": {
     "slide_type": ""
    },
    "tags": []
   },
   "outputs": [],
   "source": [
    "mtr[4:6 , 6:8]"
   ]
  },
  {
   "cell_type": "code",
   "execution_count": null,
   "id": "e51fc899-5080-4e25-8393-8a93b44f327f",
   "metadata": {
    "editable": true,
    "slideshow": {
     "slide_type": ""
    },
    "tags": []
   },
   "outputs": [],
   "source": [
    "mtr[6:8 , 6:8]"
   ]
  },
  {
   "cell_type": "code",
   "execution_count": null,
   "id": "1b5be16e-9458-4651-84fb-7a733959ccff",
   "metadata": {
    "editable": true,
    "slideshow": {
     "slide_type": ""
    },
    "tags": []
   },
   "outputs": [],
   "source": [
    "mtr[8:10 , 6:8]"
   ]
  },
  {
   "cell_type": "code",
   "execution_count": 31,
   "id": "2166a255-bae2-4d99-a022-5a807a27f91f",
   "metadata": {},
   "outputs": [
    {
     "data": {
      "text/plain": [
       "array([[ 8,  9],\n",
       "       [18, 19]])"
      ]
     },
     "execution_count": 31,
     "metadata": {},
     "output_type": "execute_result"
    }
   ],
   "source": [
    "mtr[0:2 , 8:10]"
   ]
  },
  {
   "cell_type": "code",
   "execution_count": null,
   "id": "1c8ab8d0-77f7-401f-9358-e611985b4350",
   "metadata": {
    "editable": true,
    "slideshow": {
     "slide_type": ""
    },
    "tags": []
   },
   "outputs": [],
   "source": [
    "mtr[2:4 , 8:10]"
   ]
  },
  {
   "cell_type": "code",
   "execution_count": null,
   "id": "96c7dccf-c0f5-429e-be56-91a646563598",
   "metadata": {
    "editable": true,
    "slideshow": {
     "slide_type": ""
    },
    "tags": []
   },
   "outputs": [],
   "source": [
    "mtr[4:6 , 8:10]"
   ]
  },
  {
   "cell_type": "code",
   "execution_count": null,
   "id": "a9ff5bde-b6bd-4339-ad6e-ec4cb3e9787d",
   "metadata": {
    "editable": true,
    "slideshow": {
     "slide_type": ""
    },
    "tags": []
   },
   "outputs": [],
   "source": [
    "mtr[6:8 , 8:10]"
   ]
  },
  {
   "cell_type": "code",
   "execution_count": null,
   "id": "6b9bac93-6ab6-4725-bdc8-260c1dc18258",
   "metadata": {},
   "outputs": [],
   "source": [
    "mtr[8:10 , 8:10]"
   ]
  },
  {
   "cell_type": "code",
   "execution_count": null,
   "id": "2048d4dc-2eb1-4182-901f-b189be92770d",
   "metadata": {
    "editable": true,
    "slideshow": {
     "slide_type": ""
    },
    "tags": []
   },
   "outputs": [],
   "source": []
  }
 ],
 "metadata": {
  "kernelspec": {
   "display_name": "Python 3 (ipykernel)",
   "language": "python",
   "name": "python3"
  },
  "language_info": {
   "codemirror_mode": {
    "name": "ipython",
    "version": 3
   },
   "file_extension": ".py",
   "mimetype": "text/x-python",
   "name": "python",
   "nbconvert_exporter": "python",
   "pygments_lexer": "ipython3",
   "version": "3.11.4"
  }
 },
 "nbformat": 4,
 "nbformat_minor": 5
}
